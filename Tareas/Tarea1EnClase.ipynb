{
  "nbformat": 4,
  "nbformat_minor": 0,
  "metadata": {
    "colab": {
      "provenance": [],
      "authorship_tag": "ABX9TyPPKHSMGzj83vyOqBgYZqS4",
      "include_colab_link": true
    },
    "kernelspec": {
      "name": "python3",
      "display_name": "Python 3"
    },
    "language_info": {
      "name": "python"
    }
  },
  "cells": [
    {
      "cell_type": "markdown",
      "metadata": {
        "id": "view-in-github",
        "colab_type": "text"
      },
      "source": [
        "<a href=\"https://colab.research.google.com/github/IvanSalinas2000/Aprendizaje-automatico/blob/main/Tareas/Tarea1EnClase.ipynb\" target=\"_parent\"><img src=\"https://colab.research.google.com/assets/colab-badge.svg\" alt=\"Open In Colab\"/></a>"
      ]
    },
    {
      "cell_type": "code",
      "execution_count": null,
      "metadata": {
        "colab": {
          "base_uri": "https://localhost:8080/",
          "height": 106
        },
        "id": "I8E4OeM09OBF",
        "outputId": "223c2d1c-1d74-44c7-8809-4511d58c09ca"
      },
      "outputs": [
        {
          "output_type": "error",
          "ename": "IndentationError",
          "evalue": "expected an indented block after function definition on line 9 (<ipython-input-1-c03b0a62f9ea>, line 11)",
          "traceback": [
            "\u001b[0;36m  File \u001b[0;32m\"<ipython-input-1-c03b0a62f9ea>\"\u001b[0;36m, line \u001b[0;32m11\u001b[0m\n\u001b[0;31m    x = np.random.random(muestras) * 100\u001b[0m\n\u001b[0m    ^\u001b[0m\n\u001b[0;31mIndentationError\u001b[0m\u001b[0;31m:\u001b[0m expected an indented block after function definition on line 9\n"
          ]
        }
      ],
      "source": [
        "import numpy as np\n",
        "import random\n",
        "from sklearn import linear_model\n",
        "from sklearn.metrics import mean_squared_error, r2_score\n",
        "import matplotlib.pyplot as plt\n",
        "%matplotlib inline\n",
        "\n",
        "# Generador de distribución de datos para regresión lineal simple\n",
        "def generador_datos_simple(beta, muestras, desviacion):\n",
        "# Genero n (muestras) valores de x aleatorios entre 0 y 100\n",
        "x = np.random.random(muestras) * 100\n",
        "# Genero un error aleatorio gaussiano con desviación típica (desviacion)\n",
        "e = np.random.randn(muestras) * desviacion\n",
        "# Obtengo el y real como x*beta + error\n",
        "y = x * beta + e\n",
        "return x.reshape((muestras,1)), y.reshape((muestras,1))\n",
        "\n",
        "# Parámetros de la distribución\n",
        "desviacion = 200\n",
        "beta = 10\n",
        "n = 50\n",
        "x, y = generador_datos_simple(beta, n, desviacion)\n",
        "\n",
        "# Represento los datos generados\n",
        "plt.scatter(x, y)\n",
        "plt.show()\n",
        "\n",
        "# Creo un modelo de regresión lineal\n",
        "modelo = linear_model.LinearRegression()\n",
        "\n",
        "# Entreno el modelo con los datos (X,Y)\n",
        "modelo.fit(x, y)\n",
        "# Ahora puedo obtener el coeficiente b_1\n",
        "print u'Coeficiente beta1: ', modelo.coef_[0]\n",
        "\n",
        "# Podemos predecir usando el modelo\n",
        "y_pred = modelo.predict(x)\n",
        "\n",
        "# Por último, calculamos el error cuadrático medio y el estadístico R^2\n",
        "print u'Error cuadrático medio: %.2f' % mean_squared_error(y, y_pred)\n",
        "print u'Estadístico R_2: %.2f' % r2_score(y, y_pred)\n",
        "\n",
        "\n",
        "# Representamos el ajuste (rojo) y la recta Y = beta*x (verde)\n",
        "plt.scatter(x, y)\n",
        "plt.plot(x, y_pred, color='red')\n",
        "x_real = np.array([0, 100])\n",
        "y_real = x_real*beta\n",
        "plt.plot(x_real, y_real, color='green')\n",
        "plt.show()\n"
      ]
    }
  ]
}